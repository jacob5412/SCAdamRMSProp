{
 "cells": [
  {
   "cell_type": "markdown",
   "id": "25303772-485a-4580-bab4-5fa563a47951",
   "metadata": {},
   "source": [
    "# CIFAR-100 & MNIST Results Analysis"
   ]
  },
  {
   "cell_type": "code",
   "execution_count": null,
   "id": "99d49800-58ae-43e1-aac4-9e5c4d6f80f9",
   "metadata": {},
   "outputs": [],
   "source": [
    "import glob\n",
    "import os\n",
    "\n",
    "import matplotlib.pyplot as plt\n",
    "import pandas as pd"
   ]
  },
  {
   "cell_type": "code",
   "execution_count": null,
   "id": "960e5455-7a68-4835-8088-0433683e4882",
   "metadata": {},
   "outputs": [],
   "source": [
    "files = glob.glob(\"../results/*.csv\")"
   ]
  },
  {
   "cell_type": "code",
   "execution_count": null,
   "id": "247bf49e-dee0-4c9b-ac2b-b6936df1c91b",
   "metadata": {},
   "outputs": [],
   "source": [
    "data = {}\n",
    "\n",
    "for file in files:\n",
    "    if \"gadam\" in file:\n",
    "        data[file] = pd.read_csv(\n",
    "            file, usecols=[\"Epoch\", \"r\", \"Train_Loss\", \"Train_Accuracy\", \"Test_Accuracy\", \"Test_Loss\"]\n",
    "        )\n",
    "    else:\n",
    "        data[file] = pd.read_csv(file, usecols=[\"Epoch\", \"Train_Loss\", \"Train_Accuracy\", \"Test_Accuracy\", \"Test_Loss\"])"
   ]
  },
  {
   "cell_type": "code",
   "execution_count": null,
   "id": "ce37e7fd-eaf5-4979-ab58-f3aadc991916",
   "metadata": {},
   "outputs": [],
   "source": [
    "model_mapping = {\"lenet\": \"MNIST\", \"resnet18\": \"CIFAR-100\"}\n",
    "metrics = [\"Train_Accuracy\", \"Test_Accuracy\", \"Train_Loss\", \"Test_Loss\"]\n",
    "metric_titles = [\"Training Accuracy\", \"Testing Accuracy\", \"Training Loss\", \"Testing Loss\"]"
   ]
  },
  {
   "cell_type": "code",
   "execution_count": null,
   "id": "318e6e6c-b87e-4a6f-88b3-93b3dcd9b800",
   "metadata": {},
   "outputs": [],
   "source": [
    "# Process and plot data for each model\n",
    "for model_key, model_name in model_mapping.items():\n",
    "    fig, axes = plt.subplots(2, 2, figsize=(16, 12))\n",
    "    axes = axes.flatten()  # Flatten for easier indexing\n",
    "\n",
    "    for i, metric in enumerate(metrics):\n",
    "        ax = axes[i]\n",
    "\n",
    "        for file, df in data.items():\n",
    "            if model_key in file:  # Filter files based on the model\n",
    "                label = file.split(\"/\")[-1].split(\"_\")[0]  # Extract model name from filename, remove \"../\"\n",
    "                if \"gadam\" in file:\n",
    "                    for r_value in df[\"r\"].unique():\n",
    "                        subset = df[df[\"r\"] == r_value]\n",
    "                        ax.plot(subset[\"Epoch\"], subset[metric], label=f\"{label} (r={r_value})\")\n",
    "                else:\n",
    "                    ax.plot(df[\"Epoch\"], df[metric], label=label)\n",
    "\n",
    "        # Set plot details\n",
    "        ax.set_title(f\"{metric_titles[i]} for {model_name}\")\n",
    "        ax.set_xlabel(\"Epoch\")\n",
    "        ax.set_ylabel(metric_titles[i])\n",
    "        ax.grid()\n",
    "\n",
    "        # Adjust axis scaling using relevant data\n",
    "        model_data = [df[metric] for file, df in data.items() if model_key in file]\n",
    "        all_values = pd.concat(model_data)\n",
    "        ax.set_ylim(all_values.min() * 0.95, all_values.max() * 1.05)\n",
    "\n",
    "        ax.legend()\n",
    "\n",
    "    # Save and display the plot\n",
    "    plt.suptitle(f\"Metrics for {model_name}\", fontsize=16)\n",
    "    plt.tight_layout(rect=[0, 0, 1, 0.96])\n",
    "    plt.savefig(f\"output/{model_name}_metrics.png\")  # Save each plot as an image\n",
    "    plt.show()"
   ]
  },
  {
   "cell_type": "code",
   "execution_count": null,
   "id": "f3decf4b-bc06-4ce6-9a5a-bed10bcdf0a1",
   "metadata": {},
   "outputs": [],
   "source": []
  }
 ],
 "metadata": {
  "kernelspec": {
   "display_name": "Python 3 (ipykernel)",
   "language": "python",
   "name": "python3"
  },
  "language_info": {
   "codemirror_mode": {
    "name": "ipython",
    "version": 3
   },
   "file_extension": ".py",
   "mimetype": "text/x-python",
   "name": "python",
   "nbconvert_exporter": "python",
   "pygments_lexer": "ipython3",
   "version": "3.12.7"
  }
 },
 "nbformat": 4,
 "nbformat_minor": 5
}
