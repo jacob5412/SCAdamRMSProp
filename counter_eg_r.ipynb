{
 "cells": [
  {
   "cell_type": "markdown",
   "id": "42fbe92e-4487-48bd-b9e4-46e2b45e67ce",
   "metadata": {},
   "source": [
    "# Counter-Example: Sensitivity of parameter `r`"
   ]
  },
  {
   "cell_type": "code",
   "execution_count": null,
   "id": "ecbb7a4a-e4bf-4e13-8550-fad80deabd71",
   "metadata": {},
   "outputs": [],
   "source": [
    "import os\n",
    "import random\n",
    "import time\n",
    "\n",
    "import matplotlib.pyplot as plt\n",
    "import pandas as pd\n",
    "import seaborn as sns\n",
    "import torch\n",
    "from torch.distributions import Bernoulli\n",
    "\n",
    "from optimizers.generic_adam_cer import GenericAdamCER"
   ]
  },
  {
   "cell_type": "code",
   "execution_count": null,
   "id": "d1ae9b13-2761-428b-97b3-9532a12dd238",
   "metadata": {},
   "outputs": [],
   "source": [
    "device = torch.device(\"cuda\" if torch.cuda.is_available() else \"cpu\")"
   ]
  },
  {
   "cell_type": "markdown",
   "id": "8849afec-1acc-42f2-96c9-26cd82a9210d",
   "metadata": {},
   "source": [
    "## Testing with one value of r\n",
    "\n",
    "Sources referenced:\n",
    "\n",
    "1. https://github.com/wikaiqi/AMSGradpytorch/blob/master/AdamBeyond.ipynb\n",
    "2. https://github.com/tamirbennatan/Adam-Convergence/blob/15eb471e8d2a480e91cd7c9777c8e6492cc20eea/Synthetic/Synthetic.ipynb\n",
    "3. https://github.com/zshanggu/zeyu-Reproducing-Convergence-of-ADAM-and-Beyond/blob/master/synthetic_case_experiment.ipynb\n",
    "4. https://fdlm.github.io/post/amsgrad/"
   ]
  },
  {
   "cell_type": "code",
   "execution_count": null,
   "id": "858c4174-e538-4b5d-9277-8e1f01d1324e",
   "metadata": {},
   "outputs": [],
   "source": [
    "x = 0.5  # stochastic setting\n",
    "r_value = 0.5\n",
    "F = (-1, 1)\n",
    "optimizer = GenericAdamCER(x_init=[x], F=F, r=r_value, device=device)"
   ]
  },
  {
   "cell_type": "code",
   "execution_count": null,
   "id": "f52359a3-75d0-4864-afb6-abe2b37e9a6b",
   "metadata": {},
   "outputs": [],
   "source": [
    "num_iterations = int(1e7)\n",
    "max_grad = 1010\n",
    "min_grad = -10\n",
    "probability = 0.01\n",
    "log_every = 1e5\n",
    "Bern_exp = Bernoulli(0.01)\n",
    "\n",
    "regret = 0\n",
    "regrets = []\n",
    "x_values = []"
   ]
  },
  {
   "cell_type": "code",
   "execution_count": null,
   "id": "2af79d5a-728b-497a-9ab6-19e933034e3d",
   "metadata": {},
   "outputs": [],
   "source": [
    "def ft_sto(bern, max_grad, min_grad):\n",
    "    probr = bern.sample().item()  # Convert to scalar\n",
    "    grad = (probr * max_grad) + ((1 - probr) * min_grad)\n",
    "    return grad, probr"
   ]
  },
  {
   "cell_type": "code",
   "execution_count": null,
   "id": "d4cb292d-e883-4a63-98b9-1f76f282bde9",
   "metadata": {},
   "outputs": [],
   "source": [
    "def fmin_sto(probr, max_grad, min_grad):\n",
    "    return -max_grad if probr > 0.5 else -min_grad"
   ]
  },
  {
   "cell_type": "code",
   "execution_count": null,
   "id": "a810ceb3-14b2-479f-b82b-d4a4639fe48c",
   "metadata": {
    "scrolled": true
   },
   "outputs": [],
   "source": [
    "for t in range(1, num_iterations + 1):\n",
    "    grad, probr = ft_sto(Bern_exp, max_grad, min_grad)\n",
    "\n",
    "    x = optimizer.step(grad)\n",
    "\n",
    "    # Compute loss at the current x\n",
    "    loss = grad * x\n",
    "\n",
    "    # Compute the best achievable loss (min_loss) for the current gradient\n",
    "    min_loss = fmin_sto(probr, max_grad, min_grad)\n",
    "\n",
    "    regret += loss - min_loss\n",
    "    regrets.append(regret / t)\n",
    "    x_values.append(x)\n",
    "\n",
    "    if t % log_every == 0:\n",
    "        print(f\"Iteration {t}, x: {x}, Average Regret: {regrets[-1]:.6f}\")"
   ]
  },
  {
   "cell_type": "markdown",
   "id": "384a0b33-6ace-4221-a83f-c64d77251f1f",
   "metadata": {},
   "source": [
    "Output from above execution:\n",
    "\n",
    "```bash\n",
    "Iteration 100000, x: 0.408403217792511, Average Regret: 0.679894\n",
    "Iteration 200000, x: 0.73151034116745, Average Regret: 0.327554\n",
    "Iteration 300000, x: 0.7130993604660034, Average Regret: 0.478726\n",
    "Iteration 400000, x: 0.8762974143028259, Average Regret: 0.452666\n",
    "Iteration 500000, x: 0.903300404548645, Average Regret: 0.232564\n",
    "Iteration 600000, x: 0.9597113728523254, Average Regret: 0.160154\n",
    "Iteration 700000, x: 0.7969937920570374, Average Regret: 0.254583\n",
    "Iteration 800000, x: 0.8058254718780518, Average Regret: 0.330932\n",
    "Iteration 900000, x: 0.9837645292282104, Average Regret: 0.319086\n",
    "Iteration 1000000, x: 0.9776531457901001, Average Regret: 0.310313\n",
    "Iteration 1100000, x: 0.7969663739204407, Average Regret: 0.383424\n",
    "Iteration 1200000, x: 0.792559802532196, Average Regret: 0.373279\n",
    "Iteration 1300000, x: 0.9893298745155334, Average Regret: 0.346244\n",
    "Iteration 1400000, x: 0.9843884706497192, Average Regret: 0.235595\n",
    "Iteration 1500000, x: 0.9709327220916748, Average Regret: 0.189795\n",
    "Iteration 1600000, x: 0.9757027626037598, Average Regret: 0.221340\n",
    "Iteration 1700000, x: 0.9723968505859375, Average Regret: 0.217178\n",
    "...\n",
    "Iteration 8600000, x: 0.9907640814781189, Average Regret: 0.195647\n",
    "Iteration 8700000, x: 0.9727708697319031, Average Regret: 0.193760\n",
    "Iteration 8800000, x: 0.9723454117774963, Average Regret: 0.195151\n",
    "Iteration 8900000, x: 0.9868977069854736, Average Regret: 0.193529\n",
    "Iteration 9000000, x: 0.9972649812698364, Average Regret: 0.182256\n",
    "Iteration 9100000, x: 0.9518070220947266, Average Regret: 0.187897\n",
    "Iteration 9200000, x: 0.962496817111969, Average Regret: 0.193948\n",
    "Iteration 9300000, x: 0.9991404414176941, Average Regret: 0.177586\n",
    "Iteration 9400000, x: 0.9327308535575867, Average Regret: 0.190621\n",
    "Iteration 9500000, x: 0.9611507654190063, Average Regret: 0.195493\n",
    "Iteration 9600000, x: 0.9465175271034241, Average Regret: 0.205331\n",
    "Iteration 9700000, x: 0.982431948184967, Average Regret: 0.209857\n",
    "Iteration 9800000, x: 0.9125189185142517, Average Regret: 0.227702\n",
    "Iteration 9900000, x: 0.9906120896339417, Average Regret: 0.219302\n",
    "Iteration 10000000, x: 0.9850069284439087, Average Regret: 0.220890\n",
    "```"
   ]
  },
  {
   "cell_type": "code",
   "execution_count": null,
   "id": "0848f225-eb4e-4276-8248-0129049af635",
   "metadata": {},
   "outputs": [],
   "source": [
    "data = pd.DataFrame({\"Iteration\": range(1, len(regrets) + 1), \"Average Regret\": regrets, \"x Values\": x_values})"
   ]
  },
  {
   "cell_type": "code",
   "execution_count": null,
   "id": "cfe0ca6a-5ca7-49af-ad76-be132644782f",
   "metadata": {},
   "outputs": [],
   "source": [
    "plt.figure(figsize=(15, 5))\n",
    "\n",
    "plt.subplot(1, 2, 1)\n",
    "sns.lineplot(data=data, x=\"Iteration\", y=\"Average Regret\", color=\"blue\")\n",
    "plt.title(\"Average Regret over Iterations\", fontsize=14)\n",
    "plt.xlabel(\"Iterations\", fontsize=12)\n",
    "plt.ylabel(\"Average Regret\", fontsize=12)\n",
    "\n",
    "plt.subplot(1, 2, 2)\n",
    "sns.lineplot(data=data, x=\"Iteration\", y=\"x Values\", color=\"green\")\n",
    "plt.title(\"x Values over Iterations\", fontsize=14)\n",
    "plt.xlabel(\"Iterations\", fontsize=12)\n",
    "plt.ylabel(\"x\", fontsize=12)\n",
    "\n",
    "plt.tight_layout()\n",
    "plt.show()"
   ]
  },
  {
   "cell_type": "markdown",
   "id": "68a3b4df-f2fe-4bbe-98b0-135f139d5926",
   "metadata": {},
   "source": [
    "## Generic Adam - Sensitivity of `r`"
   ]
  },
  {
   "cell_type": "code",
   "execution_count": null,
   "id": "70f97be0-5dad-440b-abb0-14a243fa3290",
   "metadata": {},
   "outputs": [],
   "source": [
    "results = {}"
   ]
  },
  {
   "cell_type": "code",
   "execution_count": null,
   "id": "130dc1e1-d9b5-4ea4-bfaa-8492a610cbad",
   "metadata": {},
   "outputs": [],
   "source": [
    "r_values = [0, 0.25, 0.5, 0.75, 1.0]\n",
    "\n",
    "num_iterations = int(6e6)\n",
    "log_interval = int(1e6)"
   ]
  },
  {
   "cell_type": "code",
   "execution_count": null,
   "id": "c4b52824-53e4-4ce6-9b3c-9b00172fce97",
   "metadata": {},
   "outputs": [],
   "source": [
    "max_grad = 1010\n",
    "min_grad = -10\n",
    "probability = 0.01\n",
    "F = (-1, 1)"
   ]
  },
  {
   "cell_type": "code",
   "execution_count": null,
   "id": "93da8379-561c-46cc-afce-70408bbda26c",
   "metadata": {},
   "outputs": [],
   "source": [
    "for r_value in r_values:\n",
    "    print(f\"Running experiment for r = {r_value}\")\n",
    "\n",
    "    x = 0.5\n",
    "    optimizer = GenericAdamCER(x_init=[x], F=F, r=r_value, device=device)\n",
    "    regret = 0\n",
    "    regrets = []\n",
    "    x_values = []\n",
    "    iteration_times = []\n",
    "\n",
    "    start_log_time = time.time()\n",
    "\n",
    "    for t in range(1, num_iterations + 1):\n",
    "        grad, probr = ft_sto(Bern_exp, max_grad, min_grad)\n",
    "        x = optimizer.step(grad)\n",
    "\n",
    "        # Compute loss at the current x\n",
    "        loss = grad * x\n",
    "\n",
    "        # Compute the best achievable loss (min_loss) for the current gradient\n",
    "        min_loss = fmin_sto(probr, max_grad, min_grad)\n",
    "\n",
    "        regret += loss - min_loss\n",
    "        regrets.append(regret / t)\n",
    "        x_values.append(x)\n",
    "\n",
    "        if t % log_interval == 0:\n",
    "            total_log_time = time.time() - start_log_time\n",
    "            print(\n",
    "                f\"Iteration {t}, r = {r_value}, Average Regret: {regrets[-1]:.6f}, \"\n",
    "                f\"Total Time for Last {log_interval} Iterations: {total_log_time:.4f}s\"\n",
    "            )\n",
    "            start_log_time = time.time()\n",
    "\n",
    "    results[r_value] = pd.DataFrame(\n",
    "        {\n",
    "            \"Iteration\": range(1, num_iterations + 1),\n",
    "            \"Average Regret\": regrets,\n",
    "            \"x Values\": x_values,\n",
    "        }\n",
    "    )\n",
    "\n",
    "print(\"Experiments completed.\")"
   ]
  },
  {
   "cell_type": "markdown",
   "id": "c1fd0cbc-ce0c-49e1-8446-e05ed3dbc1f9",
   "metadata": {},
   "source": [
    "Output:\n",
    "```bash\n",
    "Running experiment for r = 0\n",
    "Iteration 1000000, r = 0, Average Regret: 0.346997, Total Time for Last 1000000 Iterations: 306.4111s\n",
    "Iteration 2000000, r = 0, Average Regret: 0.342975, Total Time for Last 1000000 Iterations: 305.7375s\n",
    "Iteration 3000000, r = 0, Average Regret: 0.349787, Total Time for Last 1000000 Iterations: 307.4160s\n",
    "Iteration 4000000, r = 0, Average Regret: 0.395089, Total Time for Last 1000000 Iterations: 308.2684s\n",
    "Iteration 5000000, r = 0, Average Regret: 0.387406, Total Time for Last 1000000 Iterations: 310.0230s\n",
    "Iteration 6000000, r = 0, Average Regret: 0.419485, Total Time for Last 1000000 Iterations: 306.4983s\n",
    "Running experiment for r = 0.25\n",
    "Iteration 1000000, r = 0.25, Average Regret: 0.096384, Total Time for Last 1000000 Iterations: 305.3474s\n",
    "Iteration 2000000, r = 0.25, Average Regret: 0.407986, Total Time for Last 1000000 Iterations: 304.7093s\n",
    "Iteration 3000000, r = 0.25, Average Regret: 0.464050, Total Time for Last 1000000 Iterations: 307.2978s\n",
    "Iteration 4000000, r = 0.25, Average Regret: 0.555298, Total Time for Last 1000000 Iterations: 307.0189s\n",
    "Iteration 5000000, r = 0.25, Average Regret: 0.548092, Total Time for Last 1000000 Iterations: 307.6765s\n",
    "Iteration 6000000, r = 0.25, Average Regret: 0.480102, Total Time for Last 1000000 Iterations: 308.0322s\n",
    "Running experiment for r = 0.5\n",
    "Iteration 1000000, r = 0.5, Average Regret: 0.665765, Total Time for Last 1000000 Iterations: 307.2238s\n",
    "Iteration 2000000, r = 0.5, Average Regret: 0.638380, Total Time for Last 1000000 Iterations: 306.4598s\n",
    "Iteration 3000000, r = 0.5, Average Regret: 0.590844, Total Time for Last 1000000 Iterations: 305.6680s\n",
    "Iteration 4000000, r = 0.5, Average Regret: 0.569999, Total Time for Last 1000000 Iterations: 308.1390s\n",
    "Iteration 5000000, r = 0.5, Average Regret: 0.552003, Total Time for Last 1000000 Iterations: 305.6050s\n",
    "Iteration 6000000, r = 0.5, Average Regret: 0.523649, Total Time for Last 1000000 Iterations: 306.1684s\n",
    "Running experiment for r = 0.75\n",
    "Iteration 1000000, r = 0.75, Average Regret: 0.037433, Total Time for Last 1000000 Iterations: 308.4186s\n",
    "Iteration 2000000, r = 0.75, Average Regret: 0.113313, Total Time for Last 1000000 Iterations: 308.6996s\n",
    "Iteration 3000000, r = 0.75, Average Regret: 0.213503, Total Time for Last 1000000 Iterations: 306.7598s\n",
    "Iteration 4000000, r = 0.75, Average Regret: 0.271067, Total Time for Last 1000000 Iterations: 310.3542s\n",
    "Iteration 5000000, r = 0.75, Average Regret: 0.338192, Total Time for Last 1000000 Iterations: 306.8157s\n",
    "Iteration 6000000, r = 0.75, Average Regret: 0.353814, Total Time for Last 1000000 Iterations: 308.2322s\n",
    "Running experiment for r = 1.0\n",
    "Iteration 1000000, r = 1.0, Average Regret: 0.494580, Total Time for Last 1000000 Iterations: 307.2563s\n",
    "Iteration 2000000, r = 1.0, Average Regret: 0.537212, Total Time for Last 1000000 Iterations: 306.9033s\n",
    "Iteration 3000000, r = 1.0, Average Regret: 0.444726, Total Time for Last 1000000 Iterations: 305.7439s\n",
    "Iteration 4000000, r = 1.0, Average Regret: 0.431117, Total Time for Last 1000000 Iterations: 306.2602s\n",
    "Iteration 5000000, r = 1.0, Average Regret: 0.422062, Total Time for Last 1000000 Iterations: 306.9019s\n",
    "Iteration 6000000, r = 1.0, Average Regret: 0.413919, Total Time for Last 1000000 Iterations: 307.6243s\n",
    "Experiments completed.\n",
    "```"
   ]
  },
  {
   "cell_type": "code",
   "execution_count": null,
   "id": "01363a2d-c563-46ed-b601-05a5b7601318",
   "metadata": {},
   "outputs": [],
   "source": [
    "for r_value, df in results.items():\n",
    "    file_path = os.path.join(\"results/counter_example\", f\"regrets_r_{r_value}.csv\")\n",
    "    df.to_csv(file_path, columns=[\"Iteration\", \"Average Regret\", \"x Values\"], index=False)\n",
    "    print(f\"Saved regrets for r = {r_value} to {file_path}\")"
   ]
  },
  {
   "cell_type": "markdown",
   "id": "7d74e99c-a79d-4e22-af9e-635deadaea9e",
   "metadata": {},
   "source": [
    "## Plots"
   ]
  },
  {
   "cell_type": "code",
   "execution_count": null,
   "id": "54703036-09fd-47d8-b197-275ef9ff8234",
   "metadata": {},
   "outputs": [],
   "source": [
    "plt.figure(figsize=(10, 6), dpi=150)\n",
    "for r_value, df in results.items():\n",
    "    sns.lineplot(x=df[\"Iteration\"], y=df[\"Average Regret\"], label=f\"r = {r_value}\")\n",
    "\n",
    "plt.xlabel(\"Iteration\")\n",
    "plt.ylabel(\"R_t / t (Average Regret)\")\n",
    "plt.title(\"Average Regret vs Iteration\")\n",
    "plt.legend()\n",
    "plt.savefig(os.path.join(\"results/counter_example/\", \"average_regret_plot.png\"), dpi=150)\n",
    "plt.close()"
   ]
  },
  {
   "cell_type": "code",
   "execution_count": null,
   "id": "4af25aff-f2c3-4a0f-8dd1-fa87ce17461e",
   "metadata": {},
   "outputs": [],
   "source": [
    "sample_interval = int(1e4)\n",
    "\n",
    "plt.figure(figsize=(10, 6), dpi=150)\n",
    "for r_value, df in results.items():\n",
    "    sampled_df = df[df[\"Iteration\"] % sample_interval == 0]\n",
    "    sns.lineplot(x=sampled_df[\"Iteration\"], y=sampled_df[\"Average Regret\"], label=f\"r = {r_value}\")\n",
    "\n",
    "plt.xlabel(\"Iteration\")\n",
    "plt.ylabel(\"R_t / t (Average Regret)\")\n",
    "plt.title(\"Average Regret vs Iteration (Sampled)\")\n",
    "plt.legend()\n",
    "plt.grid()\n",
    "plt.savefig(os.path.join(\"results/counter_example/\", \"average_regret_plot_sampled.png\"), dpi=150)\n",
    "plt.close()"
   ]
  },
  {
   "cell_type": "code",
   "execution_count": null,
   "id": "98c947b2-6108-4997-af4e-4378bde612bb",
   "metadata": {},
   "outputs": [],
   "source": [
    "plt.figure(figsize=(10, 6), dpi=150)\n",
    "for r_value, df in results.items():\n",
    "    sns.lineplot(x=df[\"Iteration\"], y=df[\"x Values\"], label=f\"r = {r_value}\")\n",
    "\n",
    "plt.xlabel(\"Iteration\")\n",
    "plt.ylabel(\"x Values\")\n",
    "plt.title(\"x Values vs Iteration\")\n",
    "plt.legend()\n",
    "plt.savefig(os.path.join(\"results/counter_example/\", \"x_values_plot.png\"), dpi=150)\n",
    "plt.close()"
   ]
  },
  {
   "cell_type": "code",
   "execution_count": null,
   "id": "1f00d5c2-5931-4f8e-85f8-21ff8530a4da",
   "metadata": {},
   "outputs": [],
   "source": [
    "sample_interval = int(1e4)\n",
    "\n",
    "plt.figure(figsize=(10, 6), dpi=150)\n",
    "for r_value, df in results.items():\n",
    "    sampled_df = df[df[\"Iteration\"] % sample_interval == 0]\n",
    "    sns.lineplot(x=sampled_df[\"Iteration\"], y=sampled_df[\"x Values\"], label=f\"r = {r_value}\")\n",
    "\n",
    "plt.xlabel(\"Iteration\")\n",
    "plt.ylabel(\"x Values\")\n",
    "plt.title(\"x Values vs Iteration (Sampled\")\n",
    "plt.legend()\n",
    "plt.grid()\n",
    "plt.savefig(os.path.join(\"results/counter_example/\", \"x_values_plot_sampled.png\"), dpi=150)\n",
    "plt.close()"
   ]
  },
  {
   "cell_type": "code",
   "execution_count": null,
   "id": "7878c7bf-e83b-4911-bb7c-eb775f0eaffe",
   "metadata": {},
   "outputs": [],
   "source": []
  }
 ],
 "metadata": {
  "kernelspec": {
   "display_name": "Python 3 (ipykernel)",
   "language": "python",
   "name": "python3"
  },
  "language_info": {
   "codemirror_mode": {
    "name": "ipython",
    "version": 3
   },
   "file_extension": ".py",
   "mimetype": "text/x-python",
   "name": "python",
   "nbconvert_exporter": "python",
   "pygments_lexer": "ipython3",
   "version": "3.12.7"
  }
 },
 "nbformat": 4,
 "nbformat_minor": 5
}
