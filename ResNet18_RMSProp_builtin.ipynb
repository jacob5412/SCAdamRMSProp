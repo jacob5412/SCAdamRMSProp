{
 "cells": [
  {
   "cell_type": "markdown",
   "id": "34f87056-d1ca-48ba-8d4a-042ba1b0d30e",
   "metadata": {},
   "source": [
    "# ResNet18 on RMSPropBuiltin"
   ]
  },
  {
   "cell_type": "code",
   "execution_count": null,
   "id": "2d5d4c44-4149-4d15-92ee-446e03bcb7b5",
   "metadata": {},
   "outputs": [],
   "source": [
    "import matplotlib.pyplot as plt\n",
    "import pandas as pd\n",
    "import torch\n",
    "import torch.nn as nn\n",
    "import torchvision\n",
    "import torchvision.transforms as transforms\n",
    "\n",
    "from models.resnet18 import ResNet18\n",
    "from optimizers.rmsprop_builtin import RMSPropBuiltin\n",
    "from utils.training import train_model"
   ]
  },
  {
   "cell_type": "code",
   "execution_count": null,
   "id": "3074a6c8-2a0b-459c-bf3f-0e7da5c02878",
   "metadata": {},
   "outputs": [],
   "source": [
    "device = torch.device(\"cuda\" if torch.cuda.is_available() else \"cpu\")"
   ]
  },
  {
   "cell_type": "markdown",
   "id": "da45a0cb-8ea3-4efa-815c-1fb1b80bb63d",
   "metadata": {},
   "source": [
    "## Prepare CIFAR100 Data\n",
    "\n",
    "https://github.com/abhinav-neil/resnet-transfer-learning/blob/main/code/cifar100_utils.py"
   ]
  },
  {
   "cell_type": "code",
   "execution_count": null,
   "id": "1f609212-7d5b-49b5-abfd-55715bc0fb48",
   "metadata": {},
   "outputs": [],
   "source": [
    "# Data preprocessing\n",
    "transform_train = transforms.Compose(\n",
    "    [\n",
    "        transforms.RandomCrop(32, padding=4),\n",
    "        transforms.RandomHorizontalFlip(),\n",
    "        transforms.ToTensor(),\n",
    "    ]\n",
    ")\n",
    "\n",
    "transform_test = transforms.Compose(\n",
    "    [\n",
    "        transforms.ToTensor(),\n",
    "    ]\n",
    ")\n",
    "\n",
    "# CIFAR-100 Dataset\n",
    "train_dataset = torchvision.datasets.CIFAR100(root=\"./data\", train=True, download=True, transform=transform_train)\n",
    "test_dataset = torchvision.datasets.CIFAR100(root=\"./data\", train=False, download=True, transform=transform_test)"
   ]
  },
  {
   "cell_type": "code",
   "execution_count": null,
   "id": "8465430e-de81-4e2f-9661-21e7edfba2bd",
   "metadata": {},
   "outputs": [],
   "source": [
    "train_loader = torch.utils.data.DataLoader(dataset=train_dataset, batch_size=64, shuffle=True)\n",
    "test_loader = torch.utils.data.DataLoader(dataset=test_dataset, batch_size=64, shuffle=False)"
   ]
  },
  {
   "cell_type": "markdown",
   "id": "fc4674fb-8043-4d56-adaf-2c93fb9bf583",
   "metadata": {},
   "source": [
    "## Training"
   ]
  },
  {
   "cell_type": "code",
   "execution_count": null,
   "id": "6f3d02a5-81d4-453c-b170-bb12984418cd",
   "metadata": {},
   "outputs": [],
   "source": [
    "criterion = nn.CrossEntropyLoss()\n",
    "optimizer_class = RMSPropBuiltin"
   ]
  },
  {
   "cell_type": "code",
   "execution_count": null,
   "id": "4a7683c7-7596-4b91-924c-be278a3a0b4d",
   "metadata": {},
   "outputs": [],
   "source": [
    "num_epochs = 100\n",
    "print_epochs = 10"
   ]
  },
  {
   "cell_type": "code",
   "execution_count": null,
   "id": "7efcc27a-6c48-4b6d-b538-b828619d978a",
   "metadata": {},
   "outputs": [],
   "source": [
    "columns = [\"Epoch\", \"Train_Loss\", \"Train_Accuracy\", \"Test_Accuracy\", \"Test_Loss\"]\n",
    "results_df = pd.DataFrame(columns=columns)"
   ]
  },
  {
   "cell_type": "code",
   "execution_count": null,
   "id": "33587824-c72a-4654-bea9-c9c1917de26a",
   "metadata": {},
   "outputs": [],
   "source": [
    "model = ResNet18().to(device)\n",
    "\n",
    "# Train the model\n",
    "results = train_model(\n",
    "    model=model,\n",
    "    train_loader=train_loader,\n",
    "    test_loader=test_loader,\n",
    "    device=device,\n",
    "    criterion=criterion,\n",
    "    optimizer_class=optimizer_class,\n",
    "    optimizer_kwargs={},\n",
    "    num_epochs=num_epochs,\n",
    "    print_epochs=print_epochs,\n",
    ")\n",
    "\n",
    "# Append results to DataFrames\n",
    "for epoch in range(num_epochs):\n",
    "    results_df = pd.concat(\n",
    "        [\n",
    "            results_df,\n",
    "            pd.DataFrame(\n",
    "                [\n",
    "                    {\n",
    "                        \"Epoch\": epoch + 1,\n",
    "                        \"Train_Loss\": results[\"train_losses\"][epoch],\n",
    "                        \"Train_Accuracy\": results[\"train_accuracies\"][epoch],\n",
    "                        \"Test_Accuracy\": results[\"test_accuracies\"][epoch],\n",
    "                        \"Test_Loss\": results[\"test_losses\"][epoch],\n",
    "                    }\n",
    "                ]\n",
    "            ),\n",
    "        ]\n",
    "    )\n",
    "\n",
    "\n",
    "print(\"All experiments completed.\")"
   ]
  },
  {
   "cell_type": "code",
   "execution_count": null,
   "id": "ed94874c-da63-4019-b77d-90daf4c86aeb",
   "metadata": {},
   "outputs": [],
   "source": [
    "results_df.to_csv(\"results/rmsprop_builtin_resnet18_results.csv\", index=False)"
   ]
  },
  {
   "cell_type": "code",
   "execution_count": null,
   "id": "d56b0711-ab25-4c28-b2e3-e81dcb12e5dc",
   "metadata": {},
   "outputs": [],
   "source": []
  }
 ],
 "metadata": {
  "kernelspec": {
   "display_name": "Python 3 (ipykernel)",
   "language": "python",
   "name": "python3"
  },
  "language_info": {
   "codemirror_mode": {
    "name": "ipython",
    "version": 3
   },
   "file_extension": ".py",
   "mimetype": "text/x-python",
   "name": "python",
   "nbconvert_exporter": "python",
   "pygments_lexer": "ipython3",
   "version": "3.12.7"
  }
 },
 "nbformat": 4,
 "nbformat_minor": 5
}
