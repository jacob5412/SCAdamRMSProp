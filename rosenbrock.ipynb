{
 "cells": [
  {
   "cell_type": "markdown",
   "id": "e87c2eea-536d-4271-97c7-462998297da9",
   "metadata": {},
   "source": [
    "# Divergence with Rosenbrock"
   ]
  },
  {
   "cell_type": "code",
   "execution_count": null,
   "id": "8b264ebc-f3b6-43bc-bdba-29047237c3a0",
   "metadata": {},
   "outputs": [],
   "source": [
    "import os\n",
    "\n",
    "import matplotlib.pyplot as plt\n",
    "import torch\n",
    "from mpl_toolkits.mplot3d import Axes3D"
   ]
  },
  {
   "cell_type": "markdown",
   "id": "ed768ad4-ca00-4111-8dde-1c475cb7d425",
   "metadata": {},
   "source": [
    "The global minimum for the Rosenbrock function, given by the formula:\n",
    "\n",
    "$f(x, y) = (1 - x)^2 + 100(y - x^2)^2$\n",
    "\n",
    "occurs at:\n",
    "\n",
    "$x = 1, \\, y = 1$\n",
    "\n",
    "At this point, the function value is:\n",
    "\n",
    "$f(1, 1) = (1 - 1)^2 + 100(1 - 1^2)^2 = 0$\n",
    "\n",
    "So, the global minimum is:\n",
    "\n",
    "$f(1, 1) = 0$"
   ]
  },
  {
   "cell_type": "code",
   "execution_count": null,
   "id": "6d421751-fd9f-489a-83c5-0023b9fe7731",
   "metadata": {},
   "outputs": [],
   "source": [
    "def rosenbrock(x):\n",
    "    return (1 - x[0]) ** 2 + 100 * (x[1] - x[0] ** 2) ** 2"
   ]
  },
  {
   "cell_type": "code",
   "execution_count": null,
   "id": "327d4631-b26f-41d1-8275-66257a12aafc",
   "metadata": {},
   "outputs": [],
   "source": [
    "device = torch.device(\"cuda\" if torch.cuda.is_available() else \"cpu\")"
   ]
  },
  {
   "cell_type": "code",
   "execution_count": null,
   "id": "2b374c93-3f5e-49b9-ae28-b4cdb2a771a4",
   "metadata": {},
   "outputs": [],
   "source": [
    "def gadam(x_init, decay=0.0, lr=0.001, iterations=5000, sample_every=100):\n",
    "    x = x_init\n",
    "    optimizer = torch.optim.Adam([x], lr=lr)\n",
    "    scheduler = torch.optim.lr_scheduler.LambdaLR(optimizer, lr_lambda=lambda t: 1 / (1 + decay * t))\n",
    "\n",
    "    x_vals, y_vals, losses = [], [], []\n",
    "\n",
    "    for t in range(1, iterations + 1):\n",
    "        optimizer.zero_grad()\n",
    "        loss = rosenbrock(x)\n",
    "        loss.backward()\n",
    "        optimizer.step()\n",
    "        scheduler.step()\n",
    "\n",
    "        if t % sample_every == 0:\n",
    "            x_vals.append(x[0].item())\n",
    "            y_vals.append(x[1].item())\n",
    "            losses.append(loss.item())\n",
    "    return x_vals, y_vals, losses"
   ]
  },
  {
   "cell_type": "code",
   "execution_count": null,
   "id": "113e440d-ae5d-4521-8ec6-6a2bd20093d3",
   "metadata": {},
   "outputs": [],
   "source": [
    "iterations = int(1e5)\n",
    "sample_every = int(1e2)\n",
    "x_init = torch.randn(2, device=device, requires_grad=True)\n",
    "results_torch = {\n",
    "    \"decay=0\": gadam(x_init, decay=0.0, lr=0.0005, iterations=iterations, sample_every=sample_every),\n",
    "    \"decay=5e-5\": gadam(x_init, decay=5e-5, lr=0.0005, iterations=iterations, sample_every=sample_every),\n",
    "    \"decay=1e-4\": gadam(x_init, decay=1e-4, lr=0.0005, iterations=iterations, sample_every=sample_every),\n",
    "}"
   ]
  },
  {
   "cell_type": "code",
   "execution_count": null,
   "id": "0ca11ee2-bd00-48e4-960c-b21a7d7ac485",
   "metadata": {},
   "outputs": [],
   "source": [
    "fig = plt.figure(figsize=(16, 8), dpi=150)\n",
    "\n",
    "# 3D Plot for x and y trajectories\n",
    "ax1 = fig.add_subplot(1, 2, 1, projection=\"3d\")\n",
    "for label, (x_vals, y_vals, _) in results_torch.items():\n",
    "    ax1.plot(x_vals, y_vals, range(len(x_vals)), label=label, lw=1.5)\n",
    "ax1.scatter(1, 1, 0, color=\"red\", s=100, label=\"Global Minima (x=1, y=1)\")\n",
    "ax1.set_title(\"Trajectory in x-y space\")\n",
    "ax1.set_xlabel(\"x value\")\n",
    "ax1.set_ylabel(\"y value\")\n",
    "ax1.set_zlabel(\"Iterations\")\n",
    "ax1.legend()\n",
    "\n",
    "# 2D Plot for loss over iterations\n",
    "ax2 = fig.add_subplot(1, 2, 2)\n",
    "for label, (_, _, losses) in results_torch.items():\n",
    "    ax2.plot(losses[:25], label=label)\n",
    "ax2.set_title(\"Loss over iterations\")\n",
    "ax2.set_xlabel(\"Iteration (1e2)\")\n",
    "ax2.set_ylabel(\"Loss\")\n",
    "ax2.grid()\n",
    "ax2.legend()\n",
    "\n",
    "plt.tight_layout()\n",
    "plt.savefig(os.path.join(\"results\", \"rosenbrock_adam.png\"))\n",
    "plt.show()"
   ]
  },
  {
   "cell_type": "code",
   "execution_count": null,
   "id": "70fb2dc2-74ec-48c1-890a-a31b6d64c0bf",
   "metadata": {},
   "outputs": [],
   "source": []
  }
 ],
 "metadata": {
  "kernelspec": {
   "display_name": "Python 3 (ipykernel)",
   "language": "python",
   "name": "python3"
  },
  "language_info": {
   "codemirror_mode": {
    "name": "ipython",
    "version": 3
   },
   "file_extension": ".py",
   "mimetype": "text/x-python",
   "name": "python",
   "nbconvert_exporter": "python",
   "pygments_lexer": "ipython3",
   "version": "3.12.7"
  }
 },
 "nbformat": 4,
 "nbformat_minor": 5
}
